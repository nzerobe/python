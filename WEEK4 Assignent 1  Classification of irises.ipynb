{
 "cells": [
  {
   "cell_type": "markdown",
   "metadata": {
    "colab_type": "text",
    "id": "view-in-github"
   },
   "source": [
    "<a href=\"https://colab.research.google.com/github/libra3910/diveintocode-ml/blob/master/ML2101%E6%9C%9F_WEEK4_%E9%81%A0%E8%97%A4%E4%BC%B8_%E6%8E%88%E6%A5%AD%E5%89%8D%E8%AA%B2%E9%A1%8C1_%E3%82%A2%E3%83%A4%E3%83%A1%E3%81%AE%E5%88%86%E9%A1%9E.ipynb\" target=\"_parent\"><img src=\"https://colab.research.google.com/assets/colab-badge.svg\" alt=\"Open In Colab\"/></a>"
   ]
  },
  {
   "cell_type": "markdown",
   "metadata": {
    "id": "8EBLqVA_RBGP"
   },
   "source": [
    "# *Binary Classification of Iris*"
   ]
  },
  {
   "cell_type": "markdown",
   "metadata": {
    "id": "10z6duifRBGW"
   },
   "source": [
    "# [Problem 1] Select features and categories for practice"
   ]
  },
  {
   "cell_type": "markdown",
   "metadata": {
    "id": "IIN8gnD7RBGX"
   },
   "source": [
    "Combination of feature selection 4C2 = 6 ways\n",
    "Combination of objective variable selection 3C2 = 3 ways\n",
    "Combinations of feature and objective variables 6×3 = 18 ways"
   ]
  },
  {
   "cell_type": "code",
   "execution_count": null,
   "metadata": {
    "id": "8RTNf2g2RBGX"
   },
   "outputs": [],
   "source": [
    "from sklearn.datasets import load_iris\n",
    "data = load_iris()"
   ]
  },
  {
   "cell_type": "code",
   "execution_count": null,
   "metadata": {
    "id": "LVQYf9CTRBGY"
   },
   "outputs": [],
   "source": [
    "import pandas as pd\n",
    "x = pd.DataFrame(data = data.data[50:150,[0,2]],columns=['sepal_length','petal_length'])"
   ]
  },
  {
   "cell_type": "code",
   "execution_count": null,
   "metadata": {
    "id": "GH1CEzAXRBGY"
   },
   "outputs": [],
   "source": [
    "y = pd.DataFrame(data=data.target[50:150],columns=['spacies'])"
   ]
  },
  {
   "cell_type": "code",
   "execution_count": null,
   "metadata": {
    "id": "9NTgZT8MRBGY"
   },
   "outputs": [],
   "source": [
    "#y.loc[y['spacies'] == 1] = 'versicolor'"
   ]
  },
  {
   "cell_type": "code",
   "execution_count": null,
   "metadata": {
    "id": "ivj0VmQJRBGZ"
   },
   "outputs": [],
   "source": [
    "#y.loc[y['spacies'] == 2] = 'virginica'"
   ]
  },
  {
   "cell_type": "code",
   "execution_count": null,
   "metadata": {
    "id": "KXSWv9o7RBGZ"
   },
   "outputs": [],
   "source": [
    "df = pd.concat([x, y], axis=1)"
   ]
  },
  {
   "cell_type": "code",
   "execution_count": null,
   "metadata": {
    "id": "tmLI0tNJRBGZ",
    "outputId": "db20d3bf-ded4-46e6-f66c-82cf3d991bd7"
   },
   "outputs": [
    {
     "data": {
      "text/html": [
       "<div>\n",
       "<style scoped>\n",
       "    .dataframe tbody tr th:only-of-type {\n",
       "        vertical-align: middle;\n",
       "    }\n",
       "\n",
       "    .dataframe tbody tr th {\n",
       "        vertical-align: top;\n",
       "    }\n",
       "\n",
       "    .dataframe thead th {\n",
       "        text-align: right;\n",
       "    }\n",
       "</style>\n",
       "<table border=\"1\" class=\"dataframe\">\n",
       "  <thead>\n",
       "    <tr style=\"text-align: right;\">\n",
       "      <th></th>\n",
       "      <th>sepal_length</th>\n",
       "      <th>petal_length</th>\n",
       "      <th>spacies</th>\n",
       "    </tr>\n",
       "  </thead>\n",
       "  <tbody>\n",
       "    <tr>\n",
       "      <th>0</th>\n",
       "      <td>7.0</td>\n",
       "      <td>4.7</td>\n",
       "      <td>1</td>\n",
       "    </tr>\n",
       "    <tr>\n",
       "      <th>1</th>\n",
       "      <td>6.4</td>\n",
       "      <td>4.5</td>\n",
       "      <td>1</td>\n",
       "    </tr>\n",
       "    <tr>\n",
       "      <th>2</th>\n",
       "      <td>6.9</td>\n",
       "      <td>4.9</td>\n",
       "      <td>1</td>\n",
       "    </tr>\n",
       "    <tr>\n",
       "      <th>3</th>\n",
       "      <td>5.5</td>\n",
       "      <td>4.0</td>\n",
       "      <td>1</td>\n",
       "    </tr>\n",
       "    <tr>\n",
       "      <th>4</th>\n",
       "      <td>6.5</td>\n",
       "      <td>4.6</td>\n",
       "      <td>1</td>\n",
       "    </tr>\n",
       "    <tr>\n",
       "      <th>...</th>\n",
       "      <td>...</td>\n",
       "      <td>...</td>\n",
       "      <td>...</td>\n",
       "    </tr>\n",
       "    <tr>\n",
       "      <th>95</th>\n",
       "      <td>6.7</td>\n",
       "      <td>5.2</td>\n",
       "      <td>2</td>\n",
       "    </tr>\n",
       "    <tr>\n",
       "      <th>96</th>\n",
       "      <td>6.3</td>\n",
       "      <td>5.0</td>\n",
       "      <td>2</td>\n",
       "    </tr>\n",
       "    <tr>\n",
       "      <th>97</th>\n",
       "      <td>6.5</td>\n",
       "      <td>5.2</td>\n",
       "      <td>2</td>\n",
       "    </tr>\n",
       "    <tr>\n",
       "      <th>98</th>\n",
       "      <td>6.2</td>\n",
       "      <td>5.4</td>\n",
       "      <td>2</td>\n",
       "    </tr>\n",
       "    <tr>\n",
       "      <th>99</th>\n",
       "      <td>5.9</td>\n",
       "      <td>5.1</td>\n",
       "      <td>2</td>\n",
       "    </tr>\n",
       "  </tbody>\n",
       "</table>\n",
       "<p>100 rows × 3 columns</p>\n",
       "</div>"
      ],
      "text/plain": [
       "    sepal_length  petal_length  spacies\n",
       "0            7.0           4.7        1\n",
       "1            6.4           4.5        1\n",
       "2            6.9           4.9        1\n",
       "3            5.5           4.0        1\n",
       "4            6.5           4.6        1\n",
       "..           ...           ...      ...\n",
       "95           6.7           5.2        2\n",
       "96           6.3           5.0        2\n",
       "97           6.5           5.2        2\n",
       "98           6.2           5.4        2\n",
       "99           5.9           5.1        2\n",
       "\n",
       "[100 rows x 3 columns]"
      ]
     },
     "execution_count": 659,
     "metadata": {
      "tags": []
     },
     "output_type": "execute_result"
    }
   ],
   "source": [
    "df"
   ]
  },
  {
   "cell_type": "markdown",
   "metadata": {
    "id": "ZPcZsNQwRBGa"
   },
   "source": [
    "# [Problem 2] Data analysis"
   ]
  },
  {
   "cell_type": "code",
   "execution_count": null,
   "metadata": {
    "id": "QYMVhyodRBGb"
   },
   "outputs": [],
   "source": [
    "import seaborn as sns\n",
    "import matplotlib.pyplot as plt\n",
    "%matplotlib inline"
   ]
  },
  {
   "cell_type": "code",
   "execution_count": null,
   "metadata": {
    "id": "W1aQWVe3RBGb",
    "outputId": "6e2e9a9b-589c-4552-87e1-90f75eb86ed5"
   },
   "outputs": [
    {
     "data": {
      "text/plain": [
       "<AxesSubplot:xlabel='sepal_length', ylabel='petal_length'>"
      ]
     },
     "execution_count": 661,
     "metadata": {
      "tags": []
     },
     "output_type": "execute_result"
    },
    {
     "data": {
      "image/png": "[encoded data removed]",
      "text/plain": [
       "<Figure size 432x288 with 1 Axes>"
      ]
     },
     "metadata": {
      "needs_background": "light",
      "tags": []
     },
     "output_type": "display_data"
    }
   ],
   "source": [
    "sns.scatterplot(x=\"sepal_length\", y=\"petal_length\", hue=\"spacies\", data=df, style=\"spacies\")"
   ]
  },
  {
   "cell_type": "code",
   "execution_count": null,
   "metadata": {
    "id": "oNGd-7jERBGb",
    "outputId": "f4d4b60e-ea92-4963-b538-ed474b099f34"
   },
   "outputs": [
    {
     "data": {
      "text/plain": [
       "<AxesSubplot:xlabel='spacies', ylabel='sepal_length'>"
      ]
     },
     "execution_count": 662,
     "metadata": {
      "tags": []
     },
     "output_type": "execute_result"
    },
    {
     "data": {
      "image/png": "[encoded data removed]",
      "text/plain": [
       "<Figure size 432x288 with 1 Axes>"
      ]
     },
     "metadata": {
      "needs_background": "light",
      "tags": []
     },
     "output_type": "display_data"
    }
   ],
   "source": [
    "sns.boxplot(x=\"spacies\", y=\"sepal_length\", data=df)"
   ]
  },
  {
   "cell_type": "code",
   "execution_count": null,
   "metadata": {
    "id": "QXNH5wBzRBGc",
    "outputId": "6f84f4c1-f6ec-4cd4-d828-88a542325f02"
   },
   "outputs": [
    {
     "data": {
      "text/plain": [
       "<AxesSubplot:xlabel='spacies', ylabel='petal_length'>"
      ]
     },
     "execution_count": 663,
     "metadata": {
      "tags": []
     },
     "output_type": "execute_result"
    },
    {
     "data": {
      "image/png": "[encoded data removed]",
      "text/plain": [
       "<Figure size 432x288 with 1 Axes>"
      ]
     },
     "metadata": {
      "needs_background": "light",
      "tags": []
     },
     "output_type": "display_data"
    }
   ],
   "source": [
    "sns.boxplot(x=\"spacies\", y=\"petal_length\", data=df)"
   ]
  },
  {
   "cell_type": "code",
   "execution_count": null,
   "metadata": {
    "id": "Klnp_yfRRBGc",
    "outputId": "46687ebd-de24-4f8c-ac27-a67b1ae5336d"
   },
   "outputs": [
    {
     "data": {
      "text/plain": [
       "<AxesSubplot:xlabel='spacies', ylabel='sepal_length'>"
      ]
     },
     "execution_count": 664,
     "metadata": {
      "tags": []
     },
     "output_type": "execute_result"
    },
    {
     "data": {
      "image/png": "[encoded data removed]",
      "text/plain": [
       "<Figure size 432x288 with 1 Axes>"
      ]
     },
     "metadata": {
      "needs_background": "light",
      "tags": []
     },
     "output_type": "display_data"
    }
   ],
   "source": [
    "sns.violinplot(x=\"spacies\", y=\"sepal_length\", data=df)"
   ]
  },
  {
   "cell_type": "code",
   "execution_count": null,
   "metadata": {
    "id": "678e6nYWRBGc",
    "outputId": "8e0a5cc5-1cee-4d80-a9a9-0069c5074c57"
   },
   "outputs": [
    {
     "data": {
      "text/plain": [
       "<AxesSubplot:xlabel='spacies', ylabel='petal_length'>"
      ]
     },
     "execution_count": 665,
     "metadata": {
      "tags": []
     },
     "output_type": "execute_result"
    },
    {
     "data": {
      "image/png": "[encoded data removed]",
      "text/plain": [
       "<Figure size 432x288 with 1 Axes>"
      ]
     },
     "metadata": {
      "needs_background": "light",
      "tags": []
     },
     "output_type": "display_data"
    }
   ],
   "source": [
    "sns.violinplot(x=\"spacies\", y=\"petal_length\", data=df)"
   ]
  },
  {
   "cell_type": "markdown",
   "metadata": {
    "id": "gQtD2jKsRBGd"
   },
   "source": [
    "# [Problem 3] Division of preprocessing/training data and verification data"
   ]
  },
  {
   "cell_type": "code",
   "execution_count": null,
   "metadata": {
    "id": "IUkRQeJeRBGd"
   },
   "outputs": [],
   "source": [
    "import numpy as np\n",
    "from sklearn.model_selection import train_test_split\n",
    "X = np.array(df.loc[:,['sepal_length','petal_length']])\n",
    "y = np.array(df.loc[:,['spacies']])\n",
    "X = df.loc[:,['sepal_length','petal_length']]\n",
    "y = df.loc[:,['spacies']]"
   ]
  },
  {
   "cell_type": "code",
   "execution_count": null,
   "metadata": {
    "id": "hBMByP4BRBGd"
   },
   "outputs": [],
   "source": [
    "X_train, X_test, y_train, y_test = train_test_split(X, y, test_size = 0.25, random_state = 42)"
   ]
  },
  {
   "cell_type": "markdown",
   "metadata": {
    "id": "U8gc9Vn1RBGd"
   },
   "source": [
    "# [Problem 4] Pretreatment/Standardization"
   ]
  },
  {
   "cell_type": "code",
   "execution_count": null,
   "metadata": {
    "id": "QXdsDSRORBGe"
   },
   "outputs": [],
   "source": [
    "from sklearn.preprocessing import StandardScaler\n",
    "scaler = StandardScaler()"
   ]
  },
  {
   "cell_type": "code",
   "execution_count": null,
   "metadata": {
    "id": "enkLIq_VRBGe",
    "outputId": "a08142d4-b3e1-44a8-fb7e-4a3f73d44856"
   },
   "outputs": [
    {
     "data": {
      "text/plain": [
       "StandardScaler()"
      ]
     },
     "execution_count": 669,
     "metadata": {
      "tags": []
     },
     "output_type": "execute_result"
    }
   ],
   "source": [
    "scaler.fit(X_train, X_test)"
   ]
  },
  {
   "cell_type": "code",
   "execution_count": null,
   "metadata": {
    "id": "u2Ijr8IQRBGe",
    "outputId": "df826574-942b-4dab-b2ed-d955fb64fb6b"
   },
   "outputs": [
    {
     "data": {
      "text/plain": [
       "array([6.28      , 4.95333333])"
      ]
     },
     "execution_count": 670,
     "metadata": {
      "tags": []
     },
     "output_type": "execute_result"
    }
   ],
   "source": [
    "scaler.mean_"
   ]
  },
  {
   "cell_type": "code",
   "execution_count": null,
   "metadata": {
    "id": "GYU0Op10RBGe"
   },
   "outputs": [],
   "source": [
    "X_train_std = scaler.transform(X_train)"
   ]
  },
  {
   "cell_type": "code",
   "execution_count": null,
   "metadata": {
    "id": "5TP2Vj4MRBGe"
   },
   "outputs": [],
   "source": [
    "X_test_std = scaler.transform(X_test)"
   ]
  },
  {
   "cell_type": "markdown",
   "metadata": {
    "id": "-j8BcXKCRBGf"
   },
   "source": [
    "# [Problem 5] Learning and estimation"
   ]
  },
  {
   "cell_type": "markdown",
   "metadata": {
    "id": "paGUErL3RBGf"
   },
   "source": [
    "```PY\n",
    "最近傍法（k-nearest neighbors, k-nn）で学習\n",
    "n-neighbors = 5\n",
    "```"
   ]
  },
  {
   "cell_type": "code",
   "execution_count": null,
   "metadata": {
    "id": "ZI4N9EGARBGf",
    "outputId": "4ab8993a-fff7-4d46-fbef-e2c7c0e18096"
   },
   "outputs": [
    {
     "name": "stderr",
     "output_type": "stream",
     "text": [
      "<ipython-input-673-759869d3a3c7>:3: DataConversionWarning: A column-vector y was passed when a 1d array was expected. Please change the shape of y to (n_samples, ), for example using ravel().\n",
      "  neigh.fit(X_train_std, y_train)\n"
     ]
    },
    {
     "data": {
      "text/plain": [
       "array([2, 2, 2, 1, 1, 1, 1, 2, 1, 1, 1, 1, 1, 2, 2, 1, 1, 1, 1, 1, 2, 1,\n",
       "       1, 1, 2])"
      ]
     },
     "execution_count": 673,
     "metadata": {
      "tags": []
     },
     "output_type": "execute_result"
    }
   ],
   "source": [
    "from sklearn.neighbors import KNeighborsClassifier\n",
    "neigh = KNeighborsClassifier(n_neighbors=5)\n",
    "neigh.fit(X_train_std, y_train)\n",
    "neigh.predict(X_test_std)"
   ]
  },
  {
   "cell_type": "markdown",
   "metadata": {
    "id": "LZuzRWL4RBGf"
   },
   "source": [
    "```PY\n",
    "n-neighbors = 1\n",
    "```"
   ]
  },
  {
   "cell_type": "code",
   "execution_count": null,
   "metadata": {
    "id": "QiC60lfCRBGg",
    "outputId": "06be2890-bf5a-4d9e-e5df-8b2fec5abe40"
   },
   "outputs": [
    {
     "name": "stderr",
     "output_type": "stream",
     "text": [
      "<ipython-input-674-bc487fac49b4>:2: DataConversionWarning: A column-vector y was passed when a 1d array was expected. Please change the shape of y to (n_samples, ), for example using ravel().\n",
      "  neigh.fit(X_train_std, y_train)\n"
     ]
    },
    {
     "data": {
      "text/plain": [
       "array([2, 2, 2, 1, 1, 1, 2, 2, 1, 1, 1, 1, 2, 2, 2, 1, 1, 1, 1, 1, 2, 1,\n",
       "       1, 1, 2])"
      ]
     },
     "execution_count": 674,
     "metadata": {
      "tags": []
     },
     "output_type": "execute_result"
    }
   ],
   "source": [
    "neigh = KNeighborsClassifier(n_neighbors=1)\n",
    "neigh.fit(X_train_std, y_train)\n",
    "neigh.predict(X_test_std)"
   ]
  },
  {
   "cell_type": "markdown",
   "metadata": {
    "id": "8XgOss2GRBGg"
   },
   "source": [
    "```PY\n",
    "n-neighbors = 3\n",
    "```"
   ]
  },
  {
   "cell_type": "code",
   "execution_count": null,
   "metadata": {
    "id": "UpVs2nmLRBGg",
    "outputId": "087dd6de-6e14-464e-9a9b-b22a4b18b807"
   },
   "outputs": [
    {
     "name": "stderr",
     "output_type": "stream",
     "text": [
      "<ipython-input-675-e7ede8470a29>:2: DataConversionWarning: A column-vector y was passed when a 1d array was expected. Please change the shape of y to (n_samples, ), for example using ravel().\n",
      "  neigh.fit(X_train_std, y_train)\n"
     ]
    }
   ],
   "source": [
    "neigh = KNeighborsClassifier(n_neighbors=3)\n",
    "neigh.fit(X_train_std, y_train)\n",
    "y_pred = neigh.predict(X_test_std)"
   ]
  },
  {
   "cell_type": "markdown",
   "metadata": {
    "id": "VyvBZBwrRBGg"
   },
   "source": [
    "# [Problem 6] Evaluation"
   ]
  },
  {
   "cell_type": "code",
   "execution_count": null,
   "metadata": {
    "id": "AXuJCE-7RBGg",
    "outputId": "1a3eb4a1-52bd-4a32-abd6-8f3ee85f865a"
   },
   "outputs": [
    {
     "name": "stdout",
     "output_type": "stream",
     "text": [
      "0.8\n"
     ]
    },
    {
     "name": "stderr",
     "output_type": "stream",
     "text": [
      "<ipython-input-676-029432743568>:3: DataConversionWarning: A column-vector y was passed when a 1d array was expected. Please change the shape of y to (n_samples, ), for example using ravel().\n",
      "  neigh.fit(X_train_std, y_train)\n"
     ]
    }
   ],
   "source": [
    "from sklearn.metrics import accuracy_score\n",
    "neigh = KNeighborsClassifier(n_neighbors=5)\n",
    "neigh.fit(X_train_std, y_train)\n",
    "y_pred = neigh.predict(X_test_std)\n",
    "print(accuracy_score(y_test, y_pred))"
   ]
  },
  {
   "cell_type": "code",
   "execution_count": null,
   "metadata": {
    "id": "z6ern2xSRBGh",
    "outputId": "306ebd12-1b14-43a0-8cd8-011547baf1e1"
   },
   "outputs": [
    {
     "name": "stdout",
     "output_type": "stream",
     "text": [
      "0.8\n"
     ]
    },
    {
     "name": "stderr",
     "output_type": "stream",
     "text": [
      "<ipython-input-677-5aed7d8aa614>:2: DataConversionWarning: A column-vector y was passed when a 1d array was expected. Please change the shape of y to (n_samples, ), for example using ravel().\n",
      "  neigh.fit(X_train_std, y_train)\n"
     ]
    }
   ],
   "source": [
    "neigh = KNeighborsClassifier(n_neighbors=1)\n",
    "neigh.fit(X_train_std, y_train)\n",
    "y_pred = neigh.predict(X_test_std)\n",
    "print(accuracy_score(y_test, y_pred))"
   ]
  },
  {
   "cell_type": "code",
   "execution_count": null,
   "metadata": {
    "id": "DP7lAcBiRBGh",
    "outputId": "85bd35b6-7e18-418a-f5b5-9be51dc36621"
   },
   "outputs": [
    {
     "name": "stderr",
     "output_type": "stream",
     "text": [
      "<ipython-input-678-e7ede8470a29>:2: DataConversionWarning: A column-vector y was passed when a 1d array was expected. Please change the shape of y to (n_samples, ), for example using ravel().\n",
      "  neigh.fit(X_train_std, y_train)\n"
     ]
    }
   ],
   "source": [
    "neigh = KNeighborsClassifier(n_neighbors=3)\n",
    "neigh.fit(X_train_std, y_train)\n",
    "y_pred = neigh.predict(X_test_std)"
   ]
  },
  {
   "cell_type": "code",
   "execution_count": null,
   "metadata": {
    "id": "bKswrPO0RBGh",
    "outputId": "dcad719a-7b53-4534-ee00-06702915f11a"
   },
   "outputs": [
    {
     "name": "stdout",
     "output_type": "stream",
     "text": [
      "Accuracy（正解率）は、0.8\n",
      "Precision（適合率）は、0.8\n",
      "Recall（再現率）は、0.8571428571428571\n",
      "f1（F値 ）は、0.8275862068965518\n"
     ]
    }
   ],
   "source": [
    "print(\"Accuracy（正解率）は、{}\".format(accuracy_score(y_test, y_pred)))\n",
    "print(\"Precision（適合率）は、{}\".format(precision_score(y_test, y_pred)))\n",
    "print(\"Recall（再現率）は、{}\".format(recall_score(y_test, y_pred)))\n",
    "print(\"f1（F値 ）は、{}\".format(f1_score(y_test, y_pred)))"
   ]
  },
  {
   "cell_type": "code",
   "execution_count": null,
   "metadata": {
    "id": "e96J-frJRBGi",
    "outputId": "c7b5f41f-2dc0-406c-84b8-7e338d47e5f2",
    "scrolled": true
   },
   "outputs": [
    {
     "name": "stdout",
     "output_type": "stream",
     "text": [
      "混同行列は、\n",
      "[[12  2]\n",
      " [ 3  8]]\n"
     ]
    }
   ],
   "source": [
    "from sklearn.metrics import confusion_matrix\n",
    "print(\"混同行列は、\\n{}\".format(confusion_matrix(y_test, y_pred)))"
   ]
  },
  {
   "cell_type": "markdown",
   "metadata": {
    "id": "vWTzuBJrRBGi"
   },
   "source": [
    "# [Problem 7] Visualization"
   ]
  },
  {
   "cell_type": "code",
   "execution_count": null,
   "metadata": {
    "id": "pOBpjQKQRBGi",
    "outputId": "5ec38560-0a68-46f4-b225-c1cd3aa160ab"
   },
   "outputs": [
    {
     "data": {
      "image/png": "[encoded data removed]",
      "text/plain": [
       "<Figure size 432x288 with 1 Axes>"
      ]
     },
     "metadata": {
      "needs_background": "light",
      "tags": []
     },
     "output_type": "display_data"
    }
   ],
   "source": [
    "from matplotlib.colors import ListedColormap\n",
    "import matplotlib.patches as mpatches\n",
    "def decision_region(X, y, model, step=0.01, title='decision region', xlabel='xlabel', ylabel='ylabel', target_names=['versicolor', 'virginica']):\n",
    "    \"\"\"\n",
    "    2値分類を2次元の特徴量で学習したモデルの決定領域を描く。\n",
    "    背景の色が学習したモデルによる推定値から描画される。\n",
    "    散布図の点は訓練データまたは検証データである。\n",
    "    Parameters\n",
    "    ----------------\n",
    "    X : ndarray, shape(n_samples, 2)\n",
    "        特徴量\n",
    "    y : ndarray, shape(n_samples,)\n",
    "        ラベル\n",
    "    model : object\n",
    "        学習したモデルのインスンタスを入れる\n",
    "    step : float, (default : 0.1)\n",
    "        推定値を計算する間隔を設定する\n",
    "    title : str\n",
    "        グラフのタイトルの文章を与える\n",
    "    xlabel, ylabel : str\n",
    "        軸ラベルの文章を与える\n",
    "    target_names= : list of str\n",
    "        凡例の一覧を与える\n",
    "    \"\"\"\n",
    "    # Parameters setting\n",
    "    Xy = np.concatenate([X, y],axis=1)\n",
    "    Xyp = [np.where(Xy[:,2]==1)]\n",
    "    Xyp.append(np.where(Xy[:,2]==2))\n",
    "    # setting\n",
    "    scatter_color = ['red', 'blue']\n",
    "    contourf_color = ['pink', 'skyblue']\n",
    "    n_class = 2\n",
    "    # pred\n",
    "    mesh_f0, mesh_f1  = np.meshgrid(np.arange(np.min(X[:,0])-0.5, np.max(X[:,0])+0.5, step), np.arange(np.min(X[:,1])-0.5, np.max(X[:,1])+0.5, step))\n",
    "    mesh = np.c_[np.ravel(mesh_f0),np.ravel(mesh_f1)]\n",
    "    y_pred = model.predict(mesh).reshape(mesh_f0.shape)\n",
    "    # plot\n",
    "    plt.title(title)\n",
    "    plt.xlabel(xlabel)\n",
    "    plt.ylabel(ylabel)\n",
    "    plt.contourf(mesh_f0, mesh_f1, y_pred, n_class-1, cmap=ListedColormap(contourf_color))\n",
    "    plt.contour(mesh_f0, mesh_f1, y_pred, n_class-1, colors='y', linewidths=3, alpha=0.5)\n",
    "    for i, target in enumerate(np.unique(y)):\n",
    "        #plt.scatter(X[y==target][:, 0], X[y==target][:, 1], s=80, color=scatter_color[i], label=target_names[i], marker='o')\n",
    "        plt.scatter(Xy[Xyp[i],0], Xy[Xyp[i],1], s=80, color=scatter_color[i], label=target_names[i], marker='o')\n",
    "    patches = [mpatches.Patch(color=scatter_color[i], label=target_names[i]) for i in range(n_class)]\n",
    "    plt.legend(handles=patches)\n",
    "    plt.legend()\n",
    "    plt.show()\n",
    "\n",
    "decision_region(X_train_std, np.array(y_train), neigh, step=0.01, title='decision region', xlabel='xlabel', ylabel='ylabel', target_names=['versicolor', 'virginica'])"
   ]
  },
  {
   "cell_type": "code",
   "execution_count": null,
   "metadata": {
    "id": "fDFIKG5HRBGj",
    "outputId": "47a9c358-2d6f-47e9-f3ed-625f65508b7e"
   },
   "outputs": [
    {
     "data": {
      "image/png": "[encoded data removed]",
      "text/plain": [
       "<Figure size 432x288 with 1 Axes>"
      ]
     },
     "metadata": {
      "needs_background": "light",
      "tags": []
     },
     "output_type": "display_data"
    }
   ],
   "source": [
    "decision_region(X_test_std, y_pred.reshape((len(y_pred),1)), neigh, step=0.01, title='decision region', xlabel='xlabel', ylabel='ylabel', target_names=['versicolor', 'virginica'])"
   ]
  },
  {
   "cell_type": "markdown",
   "metadata": {
    "id": "4EDf3Pe-RBGj"
   },
   "source": [
    "# [Problem 8] Learning by other methods"
   ]
  },
  {
   "cell_type": "markdown",
   "metadata": {
    "id": "U3_RIBloRBGj"
   },
   "source": [
    "## Logistic regression"
   ]
  },
  {
   "cell_type": "code",
   "execution_count": null,
   "metadata": {
    "id": "2xQCo5olRBGj"
   },
   "outputs": [],
   "source": [
    "from sklearn.linear_model import LogisticRegression\n",
    "clf = LogisticRegression(random_state=0)"
   ]
  },
  {
   "cell_type": "code",
   "execution_count": null,
   "metadata": {
    "id": "RZVseTH3RBGk",
    "outputId": "e52ca2fd-49d9-42c0-a840-f765ce6affe1"
   },
   "outputs": [
    {
     "name": "stderr",
     "output_type": "stream",
     "text": [
      "C:\\Users\\es\\anaconda3\\lib\\site-packages\\sklearn\\utils\\validation.py:72: DataConversionWarning: A column-vector y was passed when a 1d array was expected. Please change the shape of y to (n_samples, ), for example using ravel().\n",
      "  return f(**kwargs)\n"
     ]
    }
   ],
   "source": [
    "clf.fit(X_train_std, y_train)\n",
    "y_pred = clf.predict(X_test_std)"
   ]
  },
  {
   "cell_type": "code",
   "execution_count": null,
   "metadata": {
    "id": "gv1EiiI4RBGk",
    "outputId": "97fcc412-07b9-4eee-a76c-0b71ebd0db92"
   },
   "outputs": [
    {
     "name": "stdout",
     "output_type": "stream",
     "text": [
      "Accuracy（正解率）は、0.84\n",
      "Precision（適合率）は、0.8571428571428571\n",
      "Recall（再現率）は、0.8571428571428571\n",
      "f1（F値 ）は、0.8571428571428571\n"
     ]
    }
   ],
   "source": [
    "print(\"Accuracy（正解率）は、{}\".format(accuracy_score(y_test, y_pred)))\n",
    "print(\"Precision（適合率）は、{}\".format(precision_score(y_test, y_pred)))\n",
    "print(\"Recall（再現率）は、{}\".format(recall_score(y_test, y_pred)))\n",
    "print(\"f1（F値 ）は、{}\".format(f1_score(y_test, y_pred)))"
   ]
  },
  {
   "cell_type": "code",
   "execution_count": null,
   "metadata": {
    "id": "HHK0vHohRBGk",
    "outputId": "d7a989e2-ff90-40c9-ce33-15dc0e01449f"
   },
   "outputs": [
    {
     "name": "stdout",
     "output_type": "stream",
     "text": [
      "混同行列は、\n",
      "[[12  2]\n",
      " [ 2  9]]\n"
     ]
    }
   ],
   "source": [
    "print(\"混同行列は、\\n{}\".format(confusion_matrix(y_test, y_pred)))"
   ]
  },
  {
   "cell_type": "code",
   "execution_count": null,
   "metadata": {
    "id": "QlN2kN1lRBGk",
    "outputId": "8da66f60-729b-4d03-f829-6d5d378e6a24"
   },
   "outputs": [
    {
     "data": {
      "image/png": "[encoded data removed]",
      "text/plain": [
       "<Figure size 432x288 with 1 Axes>"
      ]
     },
     "metadata": {
      "needs_background": "light",
      "tags": []
     },
     "output_type": "display_data"
    }
   ],
   "source": [
    "decision_region(X_test_std, y_pred.reshape((len(y_pred),1)), neigh, step=0.01, title='decision region', xlabel='xlabel', ylabel='ylabel', target_names=['versicolor', 'virginica'])"
   ]
  },
  {
   "cell_type": "markdown",
   "metadata": {
    "id": "nNMkMcICRBGl"
   },
   "source": [
    "## SVM"
   ]
  },
  {
   "cell_type": "code",
   "execution_count": null,
   "metadata": {
    "id": "AG_NH3k2RBGl",
    "outputId": "4e0be8e0-f62e-426e-ee1b-1e8a2a0a835f"
   },
   "outputs": [
    {
     "name": "stderr",
     "output_type": "stream",
     "text": [
      "C:\\Users\\es\\anaconda3\\lib\\site-packages\\sklearn\\utils\\validation.py:72: DataConversionWarning: A column-vector y was passed when a 1d array was expected. Please change the shape of y to (n_samples, ), for example using ravel().\n",
      "  return f(**kwargs)\n"
     ]
    },
    {
     "data": {
      "text/plain": [
       "Pipeline(steps=[('standardscaler', StandardScaler()),\n",
       "                ('svc', SVC(gamma='auto'))])"
      ]
     },
     "execution_count": 688,
     "metadata": {
      "tags": []
     },
     "output_type": "execute_result"
    }
   ],
   "source": [
    "from sklearn.svm import SVC\n",
    "from sklearn.pipeline import make_pipeline\n",
    "regr = make_pipeline(StandardScaler(), SVC(gamma='auto'))\n",
    "regr.fit(X_train_std, y_train)"
   ]
  },
  {
   "cell_type": "code",
   "execution_count": null,
   "metadata": {
    "id": "H3a6RJ1tRBGl"
   },
   "outputs": [],
   "source": [
    "y_pred = regr.predict(X_test_std)"
   ]
  },
  {
   "cell_type": "code",
   "execution_count": null,
   "metadata": {
    "id": "LWy4XWP_RBGl",
    "outputId": "ad300b73-97f5-4cfe-e848-686387d9a34b"
   },
   "outputs": [
    {
     "name": "stdout",
     "output_type": "stream",
     "text": [
      "Accuracy（正解率）は、0.84\n",
      "Precision（適合率）は、0.8571428571428571\n",
      "Recall（再現率）は、0.8571428571428571\n",
      "f1（F値 ）は、0.8571428571428571\n"
     ]
    }
   ],
   "source": [
    "print(\"Accuracy（正解率）は、{}\".format(accuracy_score(y_test, y_pred)))\n",
    "print(\"Precision（適合率）は、{}\".format(precision_score(y_test, y_pred)))\n",
    "print(\"Recall（再現率）は、{}\".format(recall_score(y_test, y_pred)))\n",
    "print(\"f1（F値 ）は、{}\".format(f1_score(y_test, y_pred)))"
   ]
  },
  {
   "cell_type": "code",
   "execution_count": null,
   "metadata": {
    "id": "qv1lP5q1RBGm",
    "outputId": "2016ed0f-f5df-4675-b301-08975004cbea"
   },
   "outputs": [
    {
     "name": "stdout",
     "output_type": "stream",
     "text": [
      "混同行列は、\n",
      "[[12  2]\n",
      " [ 2  9]]\n"
     ]
    }
   ],
   "source": [
    "print(\"混同行列は、\\n{}\".format(confusion_matrix(y_test, y_pred)))"
   ]
  },
  {
   "cell_type": "code",
   "execution_count": null,
   "metadata": {
    "id": "IEqLtvmuRBGm",
    "outputId": "aee33204-3d3b-478d-c69e-0245ab325078"
   },
   "outputs": [
    {
     "data": {
      "image/png": "[encoded data removed]",
      "text/plain": [
       "<Figure size 432x288 with 1 Axes>"
      ]
     },
     "metadata": {
      "needs_background": "light",
      "tags": []
     },
     "output_type": "display_data"
    }
   ],
   "source": [
    "decision_region(X_test_std, y_pred.reshape((len(y_pred),1)), neigh, step=0.01, title='decision region', xlabel='xlabel', ylabel='ylabel', target_names=['versicolor', 'virginica'])"
   ]
  },
  {
   "cell_type": "markdown",
   "metadata": {
    "id": "kFZtFhBMRBGm"
   },
   "source": [
    "## Decision"
   ]
  },
  {
   "cell_type": "code",
   "execution_count": null,
   "metadata": {
    "id": "9sQx4O9xRBGm"
   },
   "outputs": [],
   "source": [
    "from sklearn.model_selection import cross_val_score\n",
    "from sklearn.tree import DecisionTreeClassifier\n",
    "clf = DecisionTreeClassifier(random_state=0)"
   ]
  },
  {
   "cell_type": "code",
   "execution_count": null,
   "metadata": {
    "id": "ERlRQpxIRBGn"
   },
   "outputs": [],
   "source": [
    "clf.fit(X_train_std, y_train)\n",
    "y_pred = clf.predict(X_test_std)"
   ]
  },
  {
   "cell_type": "code",
   "execution_count": null,
   "metadata": {
    "id": "F1r0NxGdRBGn",
    "outputId": "85aa6607-c9ea-4269-9bd5-2b4dbd1d786c"
   },
   "outputs": [
    {
     "name": "stdout",
     "output_type": "stream",
     "text": [
      "Accuracy（正解率）は、0.84\n",
      "Precision（適合率）は、0.8125\n",
      "Recall（再現率）は、0.9285714285714286\n",
      "f1（F値 ）は、0.8666666666666666\n"
     ]
    }
   ],
   "source": [
    "print(\"Accuracy（正解率）は、{}\".format(accuracy_score(y_test, y_pred)))\n",
    "print(\"Precision（適合率）は、{}\".format(precision_score(y_test, y_pred)))\n",
    "print(\"Recall（再現率）は、{}\".format(recall_score(y_test, y_pred)))\n",
    "print(\"f1（F値 ）は、{}\".format(f1_score(y_test, y_pred)))"
   ]
  },
  {
   "cell_type": "code",
   "execution_count": null,
   "metadata": {
    "id": "WRbDKUVnRBGn",
    "outputId": "7ba9948f-6430-4174-d9d2-2a1238077883"
   },
   "outputs": [
    {
     "name": "stdout",
     "output_type": "stream",
     "text": [
      "混同行列は、\n",
      "[[13  1]\n",
      " [ 3  8]]\n"
     ]
    }
   ],
   "source": [
    "print(\"混同行列は、\\n{}\".format(confusion_matrix(y_test, y_pred)))"
   ]
  },
  {
   "cell_type": "code",
   "execution_count": null,
   "metadata": {
    "id": "ybh9cL4ERBGn",
    "outputId": "0e8041f7-16a9-40bb-ed5c-c539e2919628"
   },
   "outputs": [
    {
     "data": {
      "image/png": "[encoded data removed]",
      "text/plain": [
       "<Figure size 432x288 with 1 Axes>"
      ]
     },
     "metadata": {
      "needs_background": "light",
      "tags": []
     },
     "output_type": "display_data"
    }
   ],
   "source": [
    "decision_region(X_test_std, y_pred.reshape((len(y_pred),1)), neigh, step=0.01, title='decision region', xlabel='xlabel', ylabel='ylabel', target_names=['versicolor', 'virginica'])"
   ]
  },
  {
   "cell_type": "markdown",
   "metadata": {
    "id": "vnOmNjclRBGo"
   },
   "source": [
    "## Random"
   ]
  },
  {
   "cell_type": "code",
   "execution_count": null,
   "metadata": {
    "id": "eX14u8OqRBGo"
   },
   "outputs": [],
   "source": [
    "from sklearn.ensemble import RandomForestClassifier\n",
    "clf = RandomForestClassifier(max_depth=2, random_state=0)"
   ]
  },
  {
   "cell_type": "code",
   "execution_count": null,
   "metadata": {
    "id": "lU-Ab2L2RBGo",
    "outputId": "a616449e-2929-4b09-96d0-f9b0b2a5dea5"
   },
   "outputs": [
    {
     "name": "stderr",
     "output_type": "stream",
     "text": [
      "<ipython-input-699-ff3e2734df61>:1: DataConversionWarning: A column-vector y was passed when a 1d array was expected. Please change the shape of y to (n_samples,), for example using ravel().\n",
      "  clf.fit(X_train_std, y_train)\n"
     ]
    }
   ],
   "source": [
    "clf.fit(X_train_std, y_train)\n",
    "y_pred = clf.predict(X_test_std)"
   ]
  },
  {
   "cell_type": "code",
   "execution_count": null,
   "metadata": {
    "id": "pqxKxj4aRBGo",
    "outputId": "b0712992-a48b-428c-c366-7d3b0f6920bd"
   },
   "outputs": [
    {
     "data": {
      "text/plain": [
       "array([2, 2, 2, 1, 1, 1, 1, 2, 1, 1, 1, 1, 1, 2, 2, 1, 1, 1, 1, 1, 2, 1,\n",
       "       1, 1, 2])"
      ]
     },
     "execution_count": 700,
     "metadata": {
      "tags": []
     },
     "output_type": "execute_result"
    }
   ],
   "source": [
    "y_pred"
   ]
  },
  {
   "cell_type": "code",
   "execution_count": null,
   "metadata": {
    "id": "aMtxqFUZRBGo",
    "outputId": "aef365ce-43d4-4a9e-8ef5-9536788e7fff"
   },
   "outputs": [
    {
     "name": "stdout",
     "output_type": "stream",
     "text": [
      "Accuracy（正解率）は、0.8\n",
      "Precision（適合率）は、0.7647058823529411\n",
      "Recall（再現率）は、0.9285714285714286\n",
      "f1（F値 ）は、0.8387096774193549\n"
     ]
    }
   ],
   "source": [
    "print(\"Accuracy（正解率）は、{}\".format(accuracy_score(y_test, y_pred)))\n",
    "print(\"Precision（適合率）は、{}\".format(precision_score(y_test, y_pred)))\n",
    "print(\"Recall（再現率）は、{}\".format(recall_score(y_test, y_pred)))\n",
    "print(\"f1（F値 ）は、{}\".format(f1_score(y_test, y_pred)))"
   ]
  },
  {
   "cell_type": "code",
   "execution_count": null,
   "metadata": {
    "id": "roW027omRBGp",
    "outputId": "16404621-9e34-4680-dff2-09cbaa39aac1"
   },
   "outputs": [
    {
     "name": "stdout",
     "output_type": "stream",
     "text": [
      "混同行列は、\n",
      "[[13  1]\n",
      " [ 4  7]]\n"
     ]
    }
   ],
   "source": [
    "print(\"混同行列は、\\n{}\".format(confusion_matrix(y_test, y_pred)))"
   ]
  },
  {
   "cell_type": "code",
   "execution_count": null,
   "metadata": {
    "id": "ytJXncl6RBGp",
    "outputId": "f24fb157-415b-4fa6-c745-dc535933f667"
   },
   "outputs": [
    {
     "data": {
      "image/png": "[encoded data removed]",
      "text/plain": [
       "<Figure size 432x288 with 1 Axes>"
      ]
     },
     "metadata": {
      "needs_background": "light",
      "tags": []
     },
     "output_type": "display_data"
    }
   ],
   "source": [
    "decision_region(X_test_std, y_pred.reshape((len(y_pred),1)), neigh, step=0.01, title='decision region', xlabel='xlabel', ylabel='ylabel', target_names=['versicolor', 'virginica'])"
   ]
  },
  {
   "cell_type": "markdown",
   "metadata": {
    "id": "WgLFPn4zRBGq"
   },
   "source": []
  },
  {
   "cell_type": "code",
   "execution_count": null,
   "metadata": {
    "id": "xXADCkSlRBGq"
   },
   "outputs": [],
   "source": [
    "(1) Nearest Neighbor Method and Random Forest showed the same confusion matrix results.\n",
    "(2) Logistic regression analysis and SVM showed the same result of confusion matrix.\n",
    "(3) The rate of correct answers was 0.84 for logistic regression analysis, SVM, and decision tree, and 0.8 for nearest neighbor method and random forest.\n",
    "The goodness of fit was 0.857 for logistic regression analysis and SVM, 0.813 for decision tree, and 0.765 for nearest neighbor and random forest.\n",
    "(5) Reproducibility was good at 0.929 for nearest neighbor, decision tree, and random forest, and 0.857 for logistic regression and SVM.\n",
    "(6) F-value was 0.867 for decision tree, 0.857 for logistic regression analysis and SVM, and 0.839 for nearest neighbor method and random forest.\n",
    "(7) Except for the recall rate, the decision tree was good for all values, logistic regression analysis and SVM were good next, and nearest neighbor method and random forest seemed to be the lowest.\n",
    "(8) It is surprising that the random forest with ensemble learning is lower than the decision tree.\n",
    "➈ All the scatter plots have almost the same trend.\n",
    "\n"
   ]
  }
 ],
 "metadata": {
  "colab": {
   "collapsed_sections": [
    "U3_RIBloRBGj",
    "nNMkMcICRBGl",
    "kFZtFhBMRBGm",
    "vnOmNjclRBGo",
    "Qq0QGuKORBGp"
   ],
   "include_colab_link": true,
   "name": "ML2101期_WEEK4_遠藤伸_授業前課題1_アヤメの分類.ipynb",
   "provenance": []
  },
  "kernelspec": {
   "display_name": "Python 3",
   "language": "python",
   "name": "python3"
  },
  "language_info": {
   "codemirror_mode": {
    "name": "ipython",
    "version": 3
   },
   "file_extension": ".py",
   "mimetype": "text/x-python",
   "name": "python",
   "nbconvert_exporter": "python",
   "pygments_lexer": "ipython3",
   "version": "3.8.3"
  }
 },
 "nbformat": 4,
 "nbformat_minor": 1
}
