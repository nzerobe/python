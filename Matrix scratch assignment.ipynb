{
 "cells": [
  {
   "cell_type": "markdown",
   "metadata": {},
   "source": [
    "PROBLEM 1: Matrix product is calculated manually"
   ]
  },
  {
   "cell_type": "code",
   "execution_count": 1,
   "metadata": {},
   "outputs": [
    {
     "ename": "SyntaxError",
     "evalue": "invalid syntax (<ipython-input-1-234882b1330e>, line 1)",
     "output_type": "error",
     "traceback": [
      "\u001b[1;36m  File \u001b[1;32m\"<ipython-input-1-234882b1330e>\"\u001b[1;36m, line \u001b[1;32m1\u001b[0m\n\u001b[1;33m    PROBLEM 1: Matrix product is calculated manually\u001b[0m\n\u001b[1;37m            ^\u001b[0m\n\u001b[1;31mSyntaxError\u001b[0m\u001b[1;31m:\u001b[0m invalid syntax\n"
     ]
    }
   ],
   "source": [
    "For matrix multiplication, the number of columns in the first matrix must be equal to the number of rows in the second matrix. The resulting matrix, known as the matrix product, \n",
    "has the number of rows of the first and the number of columns of the second matrix.\n",
    "\n",
    "$c_{11} = -1 * 0 +2 * 0+ 3 *2 = 6$\n",
    "\n",
    "....................\n",
    "\n",
    "$c_{33} = 7 x 1 + 8 x (-8) + (-9) x (-1) = -48 $"
   ]
  },
  {
   "cell_type": "markdown",
   "metadata": {},
   "source": [
    "PROBLEM 2: Calculation by NumPy function"
   ]
  },
  {
   "cell_type": "code",
   "execution_count": 26,
   "metadata": {},
   "outputs": [
    {
     "name": "stdout",
     "output_type": "stream",
     "text": [
      "Matrix product of A and B=\n",
      "[[  6  29 -20]\n",
      " [ 12  52  38]\n",
      " [-18 -51 -48]]\n"
     ]
    }
   ],
   "source": [
    "import numpy as np\n",
    "a_ndarray = np.array([[-1, 2, 3], [4, -5, 6], [7, 8, -9]])\n",
    "b_ndarray = np.array([[0, 2, 1], [0, 2, -8], [2, 9, -1]])\n",
    "\n",
    "print(\"Matrix product of A and B=\\n{}\".format(np.dot(a_ndarray,b_ndarray) ))"
   ]
  },
  {
   "cell_type": "markdown",
   "metadata": {},
   "source": [
    "PROBLEM 3: Implementation of calculation of a certain element"
   ]
  },
  {
   "cell_type": "code",
   "execution_count": 48,
   "metadata": {},
   "outputs": [
    {
     "name": "stdout",
     "output_type": "stream",
     "text": [
      "Matrix product of A and B=\n",
      "[[  6  29 -20]\n",
      " [ 12  52  38]\n",
      " [-18 -51 -48]]\n"
     ]
    }
   ],
   "source": [
    "import numpy as np\n",
    "a_ndarray = np.array([[-1, 2, 3], [4, -5, 6], [7, 8, -9]])\n",
    "b_ndarray = np.array([[0, 2, 1], [0, 2, -8], [2, 9, -1]])\n",
    "\n",
    "axb_ndarray=np.arange(len(a_ndarray)*len(b_ndarray[0])).reshape((len(a_ndarray),len(b_ndarray[0])))\n",
    "for i in range(len(a_ndarray)):\n",
    "    for j in range(len(b_ndarray)):\n",
    "        axb_ndarray[i][j]=a_ndarray[i][0]*b_ndarray.T[j][0]+a_ndarray[i][1]*b_ndarray.T[j][1]+a_ndarray[i][2]*b_ndarray.T[j][2]\n",
    "print(\"Matrix product of A and B=\\n{}\".format(axb_ndarray))"
   ]
  },
  {
   "cell_type": "markdown",
   "metadata": {},
   "source": [
    "PROBLEM 4: Creating a function that performs matrix multiplication"
   ]
  },
  {
   "cell_type": "code",
   "execution_count": 59,
   "metadata": {},
   "outputs": [],
   "source": [
    "def matrix_funct(A,B):\n",
    "    import numpy as np\n",
    "    axb_ndarray=np.zeros(len(A)*len(B[0])).reshape(len(A),len(B[0]))\n",
    "    for i in range(len(A)):\n",
    "        for k in range(len(A[0])):\n",
    "            for j in range(len(B)):\n",
    "                axb_ndarray[i][k]+=A[i][j]*B.T[k][j]\n",
    "    print(\"Matrix product of A and B=\\n{}\".format(axb_ndarray))"
   ]
  },
  {
   "cell_type": "code",
   "execution_count": 60,
   "metadata": {},
   "outputs": [
    {
     "name": "stdout",
     "output_type": "stream",
     "text": [
      "Matrix product of A and B=\n",
      "[[  6.  29. -20.]\n",
      " [ 12.  52.  38.]\n",
      " [-18. -51. -48.]]\n"
     ]
    }
   ],
   "source": [
    "A = np.array([[-1, 2, 3], [4, -5, 6], [7, 8, -9]])\n",
    "B = np.array([[0, 2, 1], [0, 2, -8], [2, 9, -1]])\n",
    "matrix_funct(A,B)"
   ]
  },
  {
   "cell_type": "markdown",
   "metadata": {},
   "source": [
    "PROBLEM 5: Judge the input whose calculation is not defined"
   ]
  },
  {
   "cell_type": "code",
   "execution_count": 64,
   "metadata": {},
   "outputs": [],
   "source": [
    "def matrix_funct(A,B):\n",
    "    import numpy as np\n",
    "    if(len(A[0])!=len(B)):\n",
    "        print(\" The Product of Matrix A and B is not defined\")\n",
    "    else:\n",
    "        axb_ndarray=np.zeros(len(A)*len(B[0])).reshape(len(A),len(B[0]))\n",
    "        for i in range(len(A)):\n",
    "            for k in range(len(A[0])):\n",
    "                for j in range(len(B)):\n",
    "                    axb_ndarray[i][k]+=A[i][j]*B.T[k][j]\n",
    "        print(\"Matrix product of A and B=\\n{}\".format(axb_ndarray))"
   ]
  },
  {
   "cell_type": "code",
   "execution_count": 65,
   "metadata": {},
   "outputs": [
    {
     "name": "stdout",
     "output_type": "stream",
     "text": [
      " The Product of Matrix A and B is not defined\n"
     ]
    }
   ],
   "source": [
    "d_ndarray_ = np.array([[-1, 2, 3], [4, -5, 6]])\n",
    "e_ndarray = np.array([[-9, 8, 7], [6, -5, 4]])\n",
    "matrix_funct(d_ndarray_,e_ndarray)"
   ]
  },
  {
   "cell_type": "markdown",
   "metadata": {},
   "source": [
    "[Problem 6] Transposition"
   ]
  },
  {
   "cell_type": "code",
   "execution_count": 67,
   "metadata": {},
   "outputs": [],
   "source": [
    "def matrix_funct(A,B):\n",
    "    import numpy as np\n",
    "    if(len(A[0])!=len(B)):\n",
    "        print(\" The Product of Matrix A and B is not defined\")\n",
    "    else:\n",
    "        axb_ndarray=np.zeros(len(A)*len(B[0])).reshape(len(A),len(B[0]))\n",
    "        for i in range(len(A)):\n",
    "            for k in range(len(A[0])):\n",
    "                for j in range(len(B)):\n",
    "                    axb_ndarray[i][k]+=A[i][j]*B.T[k][j]\n",
    "        print(\"Matrix product of A and B=\\n{}\".format(axb_ndarray))"
   ]
  },
  {
   "cell_type": "code",
   "execution_count": null,
   "metadata": {},
   "outputs": [],
   "source": []
  }
 ],
 "metadata": {
  "kernelspec": {
   "display_name": "Python 3",
   "language": "python",
   "name": "python3"
  },
  "language_info": {
   "codemirror_mode": {
    "name": "ipython",
    "version": 3
   },
   "file_extension": ".py",
   "mimetype": "text/x-python",
   "name": "python",
   "nbconvert_exporter": "python",
   "pygments_lexer": "ipython3",
   "version": "3.8.3"
  }
 },
 "nbformat": 4,
 "nbformat_minor": 4
}
