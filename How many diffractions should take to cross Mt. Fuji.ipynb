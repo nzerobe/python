{
 "cells": [
  {
   "cell_type": "code",
   "execution_count": 16,
   "metadata": {},
   "outputs": [
    {
     "name": "stdout",
     "output_type": "stream",
     "text": [
      "Number of times = 26\n"
     ]
    }
   ],
   "source": [
    "from math import pow\n",
    "t0=0.00008\n",
    "for n in range(1,44):\n",
    "    thick=t0*pow(2,n)\n",
    "    if(thick>=3776):\n",
    "        break\n",
    "print(\"Number of times = {}\".format(n))"
   ]
  },
  {
   "cell_type": "code",
   "execution_count": 18,
   "metadata": {},
   "outputs": [],
   "source": [
    "def diffraction(distance):\n",
    "    t0=0.00008\n",
    "    for n in range(1,44):\n",
    "        thick=t0*pow(2,n)\n",
    "        if(thick>=distance):\n",
    "            break\n",
    "    return n"
   ]
  },
  {
   "cell_type": "code",
   "execution_count": 27,
   "metadata": {},
   "outputs": [
    {
     "data": {
      "text/plain": [
       "43"
      ]
     },
     "execution_count": 27,
     "metadata": {},
     "output_type": "execute_result"
    }
   ],
   "source": [
    "non_sun_star=4.3*9500000000000\n",
    "diffraction(non_sun_star)"
   ]
  },
  {
   "cell_type": "code",
   "execution_count": 28,
   "metadata": {},
   "outputs": [],
   "source": [
    "from math import pi\n",
    "def paper_length(thickness):\n",
    "    n=diffraction(thickness)\n",
    "    l=(1/6)*(pi*thickness)*(pow(2,n)+4)*(pow(2,n)-1)\n",
    "    return l"
   ]
  },
  {
   "cell_type": "code",
   "execution_count": 39,
   "metadata": {},
   "outputs": [
    {
     "name": "stdout",
     "output_type": "stream",
     "text": [
      "Length of paper on Moon is 2.8507428908408834e+34, on Fuji is 1.2659842144726804e+19 and \n",
      " 2.8507428908408834e+34 on closest star.\n"
     ]
    }
   ],
   "source": [
    "print(\"Length of paper on Moon is {}, on Fuji is {} and \\n {} on closest star.\".format(\n",
    "    paper_length(t0*pow(2,43)),paper_length(t0*pow(2,26)),paper_length(t0*pow(2,43))))"
   ]
  },
  {
   "cell_type": "code",
   "execution_count": null,
   "metadata": {},
   "outputs": [],
   "source": []
  }
 ],
 "metadata": {
  "kernelspec": {
   "display_name": "Python 3",
   "language": "python",
   "name": "python3"
  },
  "language_info": {
   "codemirror_mode": {
    "name": "ipython",
    "version": 3
   },
   "file_extension": ".py",
   "mimetype": "text/x-python",
   "name": "python",
   "nbconvert_exporter": "python",
   "pygments_lexer": "ipython3",
   "version": "3.8.5"
  }
 },
 "nbformat": 4,
 "nbformat_minor": 4
}
